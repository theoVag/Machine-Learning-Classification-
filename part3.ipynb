{
 "cells": [
  {
   "cell_type": "code",
   "execution_count": null,
   "metadata": {},
   "outputs": [],
   "source": [
    "import pandas as pd\n",
    "import numpy as np\n",
    "import nltk\n",
    "#nltk.download()\n",
    "from nltk.corpus import stopwords\n",
    "from nltk.tokenize import word_tokenize \n",
    "import string\n",
    "from sklearn import svm\n",
    "from sklearn.model_selection import GridSearchCV"
   ]
  },
  {
   "cell_type": "code",
   "execution_count": null,
   "metadata": {},
   "outputs": [],
   "source": [
    "# read the 3 text and split x and y in each one of them\n",
    "data_imdb=pd.read_csv('imdb_labelled.txt',sep='\\t',header=None,quoting=3)\n",
    "data_yelp=pd.read_csv('yelp_labelled.txt',sep='\\t',header=None,quoting=3)\n",
    "data_amazon = pd.read_csv('amazon_cells_labelled.txt',sep='\\t',header=None,quoting=3)\n",
    "\n",
    "data_imdb_x=data_imdb.iloc[:,0]\n",
    "data_imdb_y=data_imdb.iloc[:,1]\n",
    "\n",
    "data_yelp_x=data_yelp.iloc[:,0]\n",
    "data_yelp_y=data_yelp.iloc[:,1]\n",
    "\n",
    "data_amazon_x=data_amazon.iloc[:,0]\n",
    "data_amazon_y=data_amazon.iloc[:,1]"
   ]
  },
  {
   "cell_type": "code",
   "execution_count": null,
   "metadata": {},
   "outputs": [],
   "source": [
    "print(data_imdb.shape)\n",
    "print(data_yelp.shape)\n",
    "print(data_amazon.shape)"
   ]
  },
  {
   "cell_type": "code",
   "execution_count": null,
   "metadata": {
    "scrolled": true
   },
   "outputs": [],
   "source": [
    "# function for text preprocess\n",
    "def textPreprocess(inputText):\n",
    "    stop_words = set(stopwords.words('english'))\n",
    "    ps = nltk.stem.PorterStemmer()\n",
    "    procText=[]\n",
    "    for i in range(0,inputText.shape[0]):\n",
    "        #text = ps.stem(inputText[i])\n",
    "        text = inputText[i]\n",
    "        # split sentence in tokens\n",
    "        tokens = word_tokenize(text)\n",
    "        # stemming\n",
    "        tokens = [ps.stem(w) for w in tokens]\n",
    "        #print(tokens)\n",
    "        # take words not cleaned\n",
    "        words = [w for w in tokens]\n",
    "        #remove stop words\n",
    "        words = [w for w in words if not w in stop_words]\n",
    "        #remove punctuation\n",
    "        #words = [w for w in tokens if w.isalpha()]\n",
    "        table = str.maketrans('', '', string.punctuation)\n",
    "        words = [w.translate(table) for w in words]\n",
    "        words=[x for x in words if x]\n",
    "        procText.append(words)\n",
    "    return procText\n",
    "\n",
    "\n",
    "data_imdb_x_proc = textPreprocess(data_imdb_x)\n",
    "data_yelp_x_proc = textPreprocess(data_yelp_x)\n",
    "data_amazon_x_proc = textPreprocess(data_amazon_x)\n",
    "\n"
   ]
  },
  {
   "cell_type": "code",
   "execution_count": null,
   "metadata": {},
   "outputs": [],
   "source": [
    "data_x = data_imdb_x_proc+data_yelp_x_proc+data_amazon_x_proc\n",
    "data_y = np.concatenate((data_imdb_y.values,  data_yelp_y.values, data_amazon_y.values))\n"
   ]
  },
  {
   "cell_type": "code",
   "execution_count": null,
   "metadata": {},
   "outputs": [],
   "source": [
    "#find unique words and sort them\n",
    "def uniqueSortedElement(inputList):\n",
    "    partial_unique=list()\n",
    "    for i in range(len(inputList)):\n",
    "        partial_unique=partial_unique+list(set(inputList[i]))\n",
    "\n",
    "    unique_data = list(set(partial_unique))    \n",
    "    unique_data = sorted(unique_data)\n",
    "    return unique_data\n"
   ]
  },
  {
   "cell_type": "code",
   "execution_count": null,
   "metadata": {},
   "outputs": [],
   "source": [
    "# create vocabulary for features\n",
    "voc=uniqueSortedElement(data_x)\n",
    "len(voc)"
   ]
  },
  {
   "cell_type": "code",
   "execution_count": null,
   "metadata": {},
   "outputs": [],
   "source": [
    "from sklearn.feature_extraction.text import CountVectorizer\n",
    "\n",
    "\n",
    "def final_vector(dataset,vocab):\n",
    "    vectorizer = CountVectorizer(vocabulary=vocab, ngram_range=(1, 1)) # n_gram\n",
    "    sentences_vectors = np.zeros([len(dataset),len(voc)])\n",
    "    for i in range(1,len(dataset)):\n",
    "        temp = vectorizer.transform([\" \".join(dataset[i])])\n",
    "        sentences_vectors[i,]=temp.toarray()\n",
    "    return sentences_vectors\n",
    "\n",
    "\n",
    "data_vector = final_vector(data_x,voc)\n",
    "data_vector.shape"
   ]
  },
  {
   "cell_type": "code",
   "execution_count": null,
   "metadata": {},
   "outputs": [],
   "source": [
    "from sklearn.model_selection import train_test_split,StratifiedKFold\n",
    "from sklearn.preprocessing import MinMaxScaler\n",
    "\n",
    "X_train, X_test, y_train, y_test = train_test_split(data_vector,data_y,test_size=0.2,random_state=2019,shuffle=True,stratify=data_y)\n",
    "\n",
    "#scaler = MinMaxScaler().fit(X_train)\n",
    "#X_train = scaler.transform(X_train)\n",
    "#X_test= scaler.transform(X_test)"
   ]
  },
  {
   "cell_type": "code",
   "execution_count": null,
   "metadata": {},
   "outputs": [],
   "source": [
    "#Cs = [2**(-3),2**(-2),2**(-1), 1,2**(1),2**(2),2**(3),2**(4),2**(5),2**(6),2**(7),2**(8),2**(9),2**(10),2**(11),2**(12),2**(13),2**(14),2**(15)]\n",
    "#gammas = [2**(-15),2**(-14),2**(-13),2**(-12),2**(-11),2**(-10),2**(-9),2**(-8),2**(-7),2**(-6),2**(-5),2**(-4),2**(-3),2**(-2),2**(-1),2**(0),2**(1),2**(2),2**(3)]\n",
    "cv=StratifiedKFold(n_splits=10).split(X_train, y_train)\n",
    "\n",
    "Cs = [2**(-3),2**(-2),2**(-1), 1,2**(1),2**(2),2**(3),2**4,2**5]\n",
    "gammas = [2**(-3),2**(-2),2**(-1),2**(0),2**(1),2**(2),2**3]\n",
    "\n",
    "parameters = {'C':Cs,'gamma':gammas}\n",
    "svc = svm.SVC( kernel='rbf',decision_function_shape='ovo')\n",
    "clf = GridSearchCV(svc, parameters, cv=cv,scoring='accuracy',verbose=2,n_jobs=-1)\n",
    "clf.fit(X_train, y_train)"
   ]
  },
  {
   "cell_type": "code",
   "execution_count": null,
   "metadata": {},
   "outputs": [],
   "source": [
    "#save results_\n",
    "with open('out3.txt', 'w') as f:\n",
    "    print(clf.cv_results_, file=f)\n",
    "    \n",
    "with open('out_values_per_pair.txt3', 'w') as f:\n",
    "    means = clf.cv_results_['mean_test_score']\n",
    "    stds = clf.cv_results_['std_test_score']\n",
    "    for mean, std, params in zip(means, stds, clf.cv_results_['params']):\n",
    "        print(\"%0.3f (+/-%0.03f) for %r\" % (mean, std * 2, params), file=f)\n",
    "        #print(clf.cv_results_, file=f)"
   ]
  },
  {
   "cell_type": "code",
   "execution_count": null,
   "metadata": {},
   "outputs": [],
   "source": [
    "print(\"The best parameters are %s with a score of %f\" % (clf.best_params_, clf.best_score_))"
   ]
  },
  {
   "cell_type": "code",
   "execution_count": null,
   "metadata": {},
   "outputs": [],
   "source": [
    "#svc2 = svm.SVC( kernel='rbf',C=1000,gamma=0.0001)\n",
    "svc2 = svm.SVC( kernel='rbf',C=2,gamma=0.125)\n",
    "svc2.fit(X_train, y_train)\n",
    "y_hat = svc2.predict(X_test)\n",
    "from sklearn.metrics import accuracy_score\n",
    "acc = accuracy_score(y_test, y_hat)\n",
    "print(\"SVM accuracy: %f\" % (acc))\n",
    "from sklearn.metrics import classification_report\n",
    "print(classification_report(y_test, y_hat))\n",
    "print(\"num of vectors per class\",svc2.n_support_)\n",
    "print(\"sum of vectors: \",np.sum(svc2.n_support_))"
   ]
  }
 ],
 "metadata": {
  "kernelspec": {
   "display_name": "Python 3",
   "language": "python",
   "name": "python3"
  },
  "language_info": {
   "codemirror_mode": {
    "name": "ipython",
    "version": 3
   },
   "file_extension": ".py",
   "mimetype": "text/x-python",
   "name": "python",
   "nbconvert_exporter": "python",
   "pygments_lexer": "ipython3",
   "version": "3.6.8"
  }
 },
 "nbformat": 4,
 "nbformat_minor": 2
}
